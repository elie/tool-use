{
 "cells": [
  {
   "cell_type": "code",
   "execution_count": 1,
   "id": "aa80239d-db65-43ca-8878-2ea1d5b50cc4",
   "metadata": {},
   "outputs": [
    {
     "name": "stdout",
     "output_type": "stream",
     "text": [
      "\u001b[33mWARNING: You are using pip version 22.0.4; however, version 24.0 is available.\n",
      "You should consider upgrading via the '/Users/elie/.pyenv/versions/3.10.4/bin/python3.10 -m pip install --upgrade pip' command.\u001b[0m\u001b[33m\n",
      "\u001b[0m"
     ]
    }
   ],
   "source": [
    "!pip3 install anthropic python-dotenv --quiet"
   ]
  },
  {
   "cell_type": "code",
   "execution_count": 2,
   "id": "d1646522-3f41-4d14-b726-2a6ce4c58618",
   "metadata": {},
   "outputs": [
    {
     "data": {
      "text/plain": [
       "False"
      ]
     },
     "execution_count": 2,
     "metadata": {},
     "output_type": "execute_result"
    }
   ],
   "source": [
    "import anthropic \n",
    "import dotenv\n",
    "\n",
    "dotenv.load_dotenv()"
   ]
  },
  {
   "cell_type": "code",
   "execution_count": 38,
   "id": "131234cc-6fd8-483f-8900-0b5678e870f8",
   "metadata": {},
   "outputs": [],
   "source": [
    "INSTRUCTORS = {\n",
    "    \"alex\": {\n",
    "        \"first_name\": \"Alex\",\n",
    "        \"email\": \"elie@anthropic.com\",\n",
    "    },\n",
    "    \"colt\": {\n",
    "        \"name\": \"Colt\",\n",
    "        \"email\": \"colt@anthropic.com\",\n",
    "    },\n",
    "    \"maggie\": {\n",
    "        \"name\": \"Maggie\",\n",
    "        \"email\": \"maggie@anthropic.com\",\n",
    "    },\n",
    "}\n",
    "\n",
    "def find_instructor_email(username):\n",
    "    return INSTRUCTORS.get(username, {}).get(\"email\", \"Instructor not found\")\n"
   ]
  },
  {
   "cell_type": "code",
   "execution_count": 37,
   "id": "4b8b1692-a601-471c-a06a-32be7899650c",
   "metadata": {},
   "outputs": [],
   "source": [
    "import anthropic\n",
    "\n",
    "client = anthropic.Client()\n",
    "\n",
    "tools = [\n",
    "    {\n",
    "        \"name\": \"find_instructor_email\",\n",
    "        \"description\": \"Get an instructors email\",\n",
    "        \"input_schema\": {\n",
    "            \"type\": \"object\",\n",
    "            \"properties\": {\n",
    "                \"username\": {\n",
    "                    \"type\": \"string\",\n",
    "                    \"description\": \"The username of the instructor\"\n",
    "                },\n",
    "            },\n",
    "            \"required\": [\"username\"]\n",
    "        }\n",
    "    }\n",
    "]\n",
    "\n",
    "response = client.messages.create(\n",
    "    model=\"claude-3-opus-20240229\",\n",
    "    tools=tools,\n",
    "    max_tokens=1024,\n",
    "    messages=[{'role': 'user',\n",
    "               'content': 'What is the instructor Colt\\'s email? His username is colt.'}]\n",
    ")\n",
    "\n",
    "if response.stop_reason == \"tool_use\":\n",
    "    # a slightly more defensive way to get the response content instead of using -1\n",
    "\n",
    "    tool_use = tool_use = next(\n",
    "        block for block in response.content if block.type == \"tool_use\")\n",
    "\n",
    "    instructor = find_instructor_email(tool_use.input['username'])\n",
    "\n"
   ]
  },
  {
   "cell_type": "code",
   "execution_count": 42,
   "id": "e43d5d69-bb8c-449f-b447-8dd2124d13c4",
   "metadata": {},
   "outputs": [
    {
     "data": {
      "text/plain": [
       "ToolUseBlock(id='toolu_01YX82eYXRQrcvvRutt1ioMW', input={'username': 'elie'}, name='find_instructor_email', type='tool_use')"
      ]
     },
     "execution_count": 42,
     "metadata": {},
     "output_type": "execute_result"
    }
   ],
   "source": [
    "response.content[-1]"
   ]
  },
  {
   "cell_type": "code",
   "execution_count": null,
   "id": "9cc56aea-6b1e-4f63-8e11-577741cdd806",
   "metadata": {},
   "outputs": [],
   "source": [
    "final_result = client.messages.create(\n",
    "    model = \"claude-3-opus-20240229\",\n",
    "    tools = tools,\n",
    "    max_tokens = 1024,\n",
    "    messages = [\n",
    "        {\n",
    "            'role': 'user',\n",
    "            'content': 'What is the instructor Colt\\'s email? His username is colt.'\n",
    "        },\n",
    "        { \"role\": \"assistant\", \"content\": response.content },\n",
    "        {\n",
    "            'role': 'user',\n",
    "            \"content\": [\n",
    "                {\n",
    "                    \"type\": \"tool_result\",\n",
    "                    \"tool_use_id\": response.content[-1].id,\n",
    "                    \"content\": instructor,\n",
    "                }\n",
    "            ]\n",
    "        }\n",
    "    ]\n",
    ")\n",
    "\n"
   ]
  },
  {
   "cell_type": "code",
   "execution_count": 7,
   "id": "f520787f-ac85-45a3-ad0f-183187861469",
   "metadata": {},
   "outputs": [
    {
     "name": "stdout",
     "output_type": "stream",
     "text": [
      "Elie's email address is elie@anthropic.com.\n"
     ]
    }
   ],
   "source": [
    "print(final_result.content[0].text)"
   ]
  }
 ],
 "metadata": {
  "kernelspec": {
   "display_name": "Python 3 (ipykernel)",
   "language": "python",
   "name": "python3"
  },
  "language_info": {
   "codemirror_mode": {
    "name": "ipython",
    "version": 3
   },
   "file_extension": ".py",
   "mimetype": "text/x-python",
   "name": "python",
   "nbconvert_exporter": "python",
   "pygments_lexer": "ipython3",
   "version": "3.10.4"
  }
 },
 "nbformat": 4,
 "nbformat_minor": 5
}
