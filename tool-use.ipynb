{
 "cells": [
  {
   "cell_type": "code",
   "execution_count": 19,
   "metadata": {},
   "outputs": [
    {
     "name": "stdout",
     "output_type": "stream",
     "text": [
      "\u001b[33mWARNING: You are using pip version 22.0.4; however, version 24.0 is available.\n",
      "You should consider upgrading via the '/Users/elie/.pyenv/versions/3.10.4/bin/python3.10 -m pip install --upgrade pip' command.\u001b[0m\u001b[33m\n",
      "\u001b[0m"
     ]
    }
   ],
   "source": [
    "!pip3 install anthropic python-dotenv --quiet"
   ]
  },
  {
   "cell_type": "code",
   "execution_count": 20,
   "metadata": {},
   "outputs": [],
   "source": [
    "import anthropic\n",
    "import dotenv\n",
    "\n",
    "dotenv.load_dotenv()\n",
    "\n",
    "client = anthropic.Client()\n",
    "\n",
    "MODEL_NAME = \"claude-3-opus-20240229\""
   ]
  },
  {
   "cell_type": "code",
   "execution_count": 21,
   "metadata": {},
   "outputs": [],
   "source": [
    "def multiply(num1, num2):\n",
    "    return num1 * num2\n"
   ]
  },
  {
   "cell_type": "code",
   "execution_count": 22,
   "metadata": {},
   "outputs": [],
   "source": [
    "result = client.messages.create(\n",
    "    model=MODEL_NAME,\n",
    "    messages=[{'role': 'user', 'content': 'multiply 321321 and 438219483 only respond with the resulting number'}],\n",
    "    max_tokens=500,\n",
    ")\n",
    "\n",
    "# 14,081,438,016,68"
   ]
  },
  {
   "cell_type": "code",
   "execution_count": 23,
   "metadata": {},
   "outputs": [
    {
     "data": {
      "text/plain": [
       "False"
      ]
     },
     "execution_count": 23,
     "metadata": {},
     "output_type": "execute_result"
    }
   ],
   "source": [
    "result.content[0].text == \"140809122497043\""
   ]
  },
  {
   "cell_type": "code",
   "execution_count": 111,
   "metadata": {},
   "outputs": [],
   "source": [
    "multiply_tool = {\n",
    "    \"name\": \"multiply\",\n",
    "    \"description\": \"Multiply two numbers\",\n",
    "    \"input_schema\": {\n",
    "        \"type\": \"object\",\n",
    "        \"properties\": {\n",
    "            \"num1\": {\n",
    "                \"type\": \"integer\",\n",
    "                \"description\": \"The first number\"\n",
    "            },\n",
    "            \"num2\": {\n",
    "                \"type\": \"integer\",\n",
    "                \"description\": \"The second number\"\n",
    "            }\n",
    "        },\n",
    "        \"required\": [\"num1\", \"num2\"]\n",
    "    },\n",
    "}\n",
    "\n",
    "messages = [{'role': 'user',\n",
    "             'content': 'multiply 321321 and 438219483 only respond with the resulting number'}]"
   ]
  },
  {
   "cell_type": "code",
   "execution_count": 112,
   "metadata": {},
   "outputs": [],
   "source": [
    "result = client.messages.create(\n",
    "    model=MODEL_NAME,\n",
    "    messages=messages,\n",
    "    max_tokens=1024,\n",
    "    tools=[multiply_tool]\n",
    ")"
   ]
  },
  {
   "cell_type": "code",
   "execution_count": 113,
   "metadata": {},
   "outputs": [
    {
     "data": {
      "text/plain": [
       "[TextBlock(text='<thinking>\\nThe user has directly provided both of the required parameters (num1 and num2) for the \"multiply\" tool. No other tools are needed, and the parameter values are specified in the request, so we can proceed with calling the multiply tool without asking for any additional information.\\n</thinking>', type='text'),\n",
       " ToolUseBlock(id='toolu_018jm9SouM9MFT8CRnaNWVMh', input={'num1': 321321, 'num2': 438219483}, name='multiply', type='tool_use')]"
      ]
     },
     "execution_count": 113,
     "metadata": {},
     "output_type": "execute_result"
    }
   ],
   "source": [
    "result.content"
   ]
  },
  {
   "cell_type": "code",
   "execution_count": 114,
   "metadata": {},
   "outputs": [],
   "source": [
    "# result.content[0].input\n",
    "# result.content[0].id\n",
    "\n",
    "num1 = result.content[-1].input['num1']\n",
    "num2 = result.content[-1].input['num2']\n",
    "\n",
    "product = multiply(num1, num2)\n",
    "\n",
    "messages.append({\"role\": \"assistant\", \"content\": result.content})\n",
    "\n",
    "messages.append({\n",
    "    'role': 'user',\n",
    "    'content': [\n",
    "        {\n",
    "            \"type\": \"tool_result\",\n",
    "            \"tool_use_id\": result.content[-1].id,\n",
    "            \"content\": f\" The product is {product}, which is the result of multiplying {num1} and {num2}. \"\n",
    "        }\n",
    "    ]\n",
    "})"
   ]
  },
  {
   "cell_type": "code",
   "execution_count": 115,
   "metadata": {},
   "outputs": [
    {
     "data": {
      "text/plain": [
       "[{'role': 'user',\n",
       "  'content': 'multiply 321321 and 438219483 only respond with the resulting number'},\n",
       " {'role': 'assistant',\n",
       "  'content': [TextBlock(text='<thinking>\\nThe user has directly provided both of the required parameters (num1 and num2) for the \"multiply\" tool. No other tools are needed, and the parameter values are specified in the request, so we can proceed with calling the multiply tool without asking for any additional information.\\n</thinking>', type='text'),\n",
       "   ToolUseBlock(id='toolu_018jm9SouM9MFT8CRnaNWVMh', input={'num1': 321321, 'num2': 438219483}, name='multiply', type='tool_use')]},\n",
       " {'role': 'user',\n",
       "  'content': [{'type': 'tool_result',\n",
       "    'tool_use_id': 'toolu_018jm9SouM9MFT8CRnaNWVMh',\n",
       "    'content': ' The product is 140809122497043, which is the result of multiplying 321321 and 438219483. '}]}]"
      ]
     },
     "execution_count": 115,
     "metadata": {},
     "output_type": "execute_result"
    }
   ],
   "source": [
    "messages"
   ]
  },
  {
   "cell_type": "code",
   "execution_count": 116,
   "metadata": {},
   "outputs": [],
   "source": [
    "next_result = client.messages.create(\n",
    "    model=MODEL_NAME,\n",
    "    messages=messages,\n",
    "    max_tokens=1024,\n",
    "    tools=[multiply_tool]\n",
    ")"
   ]
  },
  {
   "cell_type": "code",
   "execution_count": 117,
   "metadata": {},
   "outputs": [
    {
     "data": {
      "text/plain": [
       "True"
      ]
     },
     "execution_count": 117,
     "metadata": {},
     "output_type": "execute_result"
    }
   ],
   "source": [
    "next_result.content[0].text == \"140809122497043\""
   ]
  }
 ],
 "metadata": {
  "kernelspec": {
   "display_name": "Python 3 (ipykernel)",
   "language": "python",
   "name": "python3"
  },
  "language_info": {
   "codemirror_mode": {
    "name": "ipython",
    "version": 3
   },
   "file_extension": ".py",
   "mimetype": "text/x-python",
   "name": "python",
   "nbconvert_exporter": "python",
   "pygments_lexer": "ipython3",
   "version": "3.10.4"
  }
 },
 "nbformat": 4,
 "nbformat_minor": 4
}
